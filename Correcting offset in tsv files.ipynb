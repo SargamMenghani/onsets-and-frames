{
 "cells": [
  {
   "cell_type": "code",
   "execution_count": 1,
   "metadata": {},
   "outputs": [],
   "source": [
    "import pandas as pd\n",
    "import os"
   ]
  },
  {
   "cell_type": "code",
   "execution_count": 2,
   "metadata": {},
   "outputs": [],
   "source": [
    "def correct_tsv(tsv_path):\n",
    "    with open(tsv_path, 'r') as in_f:\n",
    "        content = in_f.read()\n",
    "        content = content.replace(',', '\\t')\n",
    "    with open(tsv_path, 'w') as out_f:\n",
    "        out_f.write(content)\n",
    "        \n",
    "    df = pd.read_csv(tsv_path, sep='\\t')\n",
    "    first_onset = df['# onset'].iloc[0]\n",
    "    df['# onset'] = df['# onset'] - first_onset\n",
    "    df['offset'] = df['offset'] - first_onset\n",
    "    df = df[['# onset', 'offset', 'note', 'velocity']]\n",
    "    df.to_csv(tsv_path, sep='\\t', index=False)"
   ]
  },
  {
   "cell_type": "code",
   "execution_count": 3,
   "metadata": {},
   "outputs": [],
   "source": [
    "data_path = '/home/nisarg/inhouse_research/imusic/third_party_repos/repo_data/sitar_lmd_files/'\n",
    "all_files = os.listdir(data_path)\n",
    "all_tsv_files = [f for f in all_files if f.endswith('tsv')]\n",
    "for tsv_file in all_tsv_files:\n",
    "    correct_tsv(os.path.join(data_path, tsv_file))"
   ]
  },
  {
   "cell_type": "code",
   "execution_count": 4,
   "metadata": {},
   "outputs": [
    {
     "data": {
      "text/plain": [
       "1576"
      ]
     },
     "execution_count": 4,
     "metadata": {},
     "output_type": "execute_result"
    }
   ],
   "source": [
    "len(all_tsv_files)"
   ]
  },
  {
   "cell_type": "markdown",
   "metadata": {},
   "source": [
    "## Generating sitar effects"
   ]
  },
  {
   "cell_type": "code",
   "execution_count": 6,
   "metadata": {},
   "outputs": [],
   "source": [
    "import pretty_midi\n",
    "import os"
   ]
  },
  {
   "cell_type": "code",
   "execution_count": 3,
   "metadata": {},
   "outputs": [],
   "source": [
    "output_path = '/home/nisarg/inhouse_research/imusic/third_party_repos/repo_data/sitar_notes'"
   ]
  },
  {
   "cell_type": "code",
   "execution_count": 8,
   "metadata": {},
   "outputs": [],
   "source": [
    "def save_note(note_num):\n",
    "    sitar = pretty_midi.Instrument(program=104)\n",
    "    note = pretty_midi.Note(start=0, end=0.5, pitch=note_num, velocity=70)\n",
    "    sitar.notes = [note]\n",
    "    midi = pretty_midi.PrettyMIDI()\n",
    "    midi.instruments = [sitar]\n",
    "    midi.write(os.path.join(output_path, str(note_num)+'.mid'))"
   ]
  },
  {
   "cell_type": "code",
   "execution_count": 11,
   "metadata": {},
   "outputs": [],
   "source": [
    "for i in range(1, 128):\n",
    "    save_note(i)"
   ]
  },
  {
   "cell_type": "code",
   "execution_count": null,
   "metadata": {},
   "outputs": [],
   "source": []
  }
 ],
 "metadata": {
  "kernelspec": {
   "display_name": "lakhnes_model",
   "language": "python",
   "name": "lakhnes_model"
  },
  "language_info": {
   "codemirror_mode": {
    "name": "ipython",
    "version": 3
   },
   "file_extension": ".py",
   "mimetype": "text/x-python",
   "name": "python",
   "nbconvert_exporter": "python",
   "pygments_lexer": "ipython3",
   "version": "3.6.8"
  }
 },
 "nbformat": 4,
 "nbformat_minor": 2
}
