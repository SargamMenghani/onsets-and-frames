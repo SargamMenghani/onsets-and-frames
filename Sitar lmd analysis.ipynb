{
 "cells": [
  {
   "cell_type": "code",
   "execution_count": 40,
   "metadata": {},
   "outputs": [],
   "source": [
    "import os\n",
    "import pretty_midi\n",
    "import numpy as np\n",
    "%matplotlib inline\n",
    "import matplotlib.pyplot as plt"
   ]
  },
  {
   "cell_type": "code",
   "execution_count": 19,
   "metadata": {},
   "outputs": [],
   "source": [
    "def compute_polyphonicity(note, compare_note):\n",
    "    if note.end < compare_note.start:\n",
    "        return 0\n",
    "    return min(note.end-compare_note.start, compare_note.end-compare_note.start)\n",
    "        \n",
    "\n",
    "def find_polyphonicity(notes):\n",
    "    notes = sorted(notes, key=lambda k: k.start)\n",
    "    notes = sorted(notes, key=lambda k: k.end)\n",
    "    total_melody_time = notes[-1].end - notes[0].start\n",
    "    \n",
    "    total_polyphonic_time = 0.0\n",
    "    for i, note in enumerate(notes):\n",
    "        for j, compare_note in enumerate(notes[i+1:]):\n",
    "            polyphonic_time = compute_polyphonicity(note, compare_note)\n",
    "            if polyphonic_time == 0:\n",
    "                break\n",
    "            total_polyphonic_time += polyphonic_time\n",
    "    return total_polyphonic_time/total_melody_time"
   ]
  },
  {
   "cell_type": "code",
   "execution_count": 20,
   "metadata": {},
   "outputs": [],
   "source": [
    "def find_avg_note_time(notes):\n",
    "    return np.mean([note.end - note.start for note in notes])"
   ]
  },
  {
   "cell_type": "code",
   "execution_count": 21,
   "metadata": {},
   "outputs": [],
   "source": [
    "def find_unique_pitches(notes):\n",
    "    return set([note.pitch for note in notes])"
   ]
  },
  {
   "cell_type": "code",
   "execution_count": 26,
   "metadata": {},
   "outputs": [],
   "source": [
    "def analysis(midi_path):\n",
    "    midi_files = os.listdir(midi_path)\n",
    "    midi_files = [f for f in midi_files if f.endswith('.mid')]\n",
    "    polyphonicities = []\n",
    "    avg_note_times = []\n",
    "    unique_pitches = []\n",
    "    for midi_file in midi_files:\n",
    "        midi = pretty_midi.PrettyMIDI(os.path.join(midi_path, midi_file))\n",
    "        notes = midi.instruments[0].notes\n",
    "        polyphonicities.append(find_polyphonicity(notes))\n",
    "        avg_note_times.append(find_avg_note_time(notes))\n",
    "        unique_pitches.extend(list(find_unique_pitches(notes)))\n",
    "    return polyphonicities, avg_note_times, unique_pitches"
   ]
  },
  {
   "cell_type": "code",
   "execution_count": 27,
   "metadata": {},
   "outputs": [
    {
     "name": "stdout",
     "output_type": "stream",
     "text": [
      "CPU times: user 7.02 s, sys: 181 ms, total: 7.2 s\n",
      "Wall time: 7.2 s\n"
     ]
    }
   ],
   "source": [
    "%time polyphonicities, avg_note_times, unique_pitches = analysis('/home/nisarg/inhouse_research/imusic/third_party_repos/repo_data/sitar_lmd_files/')"
   ]
  },
  {
   "cell_type": "code",
   "execution_count": 37,
   "metadata": {},
   "outputs": [],
   "source": [
    "def draw_bar_plot(indices, xtick_labels, values, title_str, xlabel_str, ylabel_str):\n",
    "    plt.figure(figsize = [10,7])\n",
    "    plt.bar(indices, values)\n",
    "    plt.xticks(indices, xtick_labels, rotation='vertical')\n",
    "    plt.title(title_str)\n",
    "    plt.ylabel(ylabel_str)\n",
    "    plt.xlabel(xlabel_str)\n",
    "    plt.tight_layout()\n",
    "    plt.show()"
   ]
  },
  {
   "cell_type": "code",
   "execution_count": 36,
   "metadata": {},
   "outputs": [],
   "source": [
    "def draw_hist_plot(values, title_str, xlabel_str, ylabel_str, nbins=20):\n",
    "    plt.figure(figsize = [10,7])\n",
    "    plt.hist(values, bins=nbins)\n",
    "    plt.title(title_str)\n",
    "    plt.ylabel(ylabel_str)\n",
    "    plt.xlabel(xlabel_str)\n",
    "    plt.show()"
   ]
  },
  {
   "cell_type": "code",
   "execution_count": 44,
   "metadata": {},
   "outputs": [
    {
     "data": {
      "image/png": "[encoded data removed]",
      "text/plain": [
       "<Figure size 720x504 with 1 Axes>"
      ]
     },
     "metadata": {
      "needs_background": "light"
     },
     "output_type": "display_data"
    }
   ],
   "source": [
    "draw_hist_plot(polyphonicities, 'Polyphonicities in melodies', 'Polyphonicities', 'Frequency', nbins=40)"
   ]
  },
  {
   "cell_type": "code",
   "execution_count": 50,
   "metadata": {},
   "outputs": [
    {
     "data": {
      "image/png": "[encoded data removed]",
      "text/plain": [
       "<Figure size 720x504 with 1 Axes>"
      ]
     },
     "metadata": {
      "needs_background": "light"
     },
     "output_type": "display_data"
    }
   ],
   "source": [
    "draw_hist_plot(avg_note_times, 'Average Note Times', 'Note Times', 'Frequency', nbins=100)"
   ]
  },
  {
   "cell_type": "code",
   "execution_count": 33,
   "metadata": {},
   "outputs": [],
   "source": [
    "from collections import Counter"
   ]
  },
  {
   "cell_type": "code",
   "execution_count": 51,
   "metadata": {},
   "outputs": [],
   "source": [
    "count_dict = Counter(unique_pitches)"
   ]
  },
  {
   "cell_type": "code",
   "execution_count": 57,
   "metadata": {},
   "outputs": [
    {
     "data": {
      "text/plain": [
       "[(2, 1),\n",
       " (7, 1),\n",
       " (9, 1),\n",
       " (11, 1),\n",
       " (12, 2),\n",
       " (14, 3),\n",
       " (16, 2),\n",
       " (17, 1),\n",
       " (19, 3),\n",
       " (20, 1),\n",
       " (21, 3),\n",
       " (22, 1),\n",
       " (23, 2),\n",
       " (24, 6),\n",
       " (25, 3),\n",
       " (26, 9),\n",
       " (28, 7),\n",
       " (29, 15),\n",
       " (30, 5),\n",
       " (31, 20),\n",
       " (32, 7),\n",
       " (33, 16),\n",
       " (34, 8),\n",
       " (35, 20),\n",
       " (36, 42),\n",
       " (37, 16),\n",
       " (38, 44),\n",
       " (39, 21),\n",
       " (40, 102),\n",
       " (41, 88),\n",
       " (42, 35),\n",
       " (43, 137),\n",
       " (44, 43),\n",
       " (45, 153),\n",
       " (46, 81),\n",
       " (47, 129),\n",
       " (48, 174),\n",
       " (49, 87),\n",
       " (50, 241),\n",
       " (51, 93),\n",
       " (52, 281),\n",
       " (53, 225),\n",
       " (54, 192),\n",
       " (55, 408),\n",
       " (56, 184),\n",
       " (57, 517),\n",
       " (58, 283),\n",
       " (59, 529),\n",
       " (60, 532),\n",
       " (61, 424),\n",
       " (62, 776),\n",
       " (63, 435),\n",
       " (64, 781),\n",
       " (65, 597),\n",
       " (66, 568),\n",
       " (67, 781),\n",
       " (68, 362),\n",
       " (69, 791),\n",
       " (70, 439),\n",
       " (71, 513),\n",
       " (72, 574),\n",
       " (73, 276),\n",
       " (74, 569),\n",
       " (75, 305),\n",
       " (76, 392),\n",
       " (77, 347),\n",
       " (78, 194),\n",
       " (79, 279),\n",
       " (80, 152),\n",
       " (81, 209),\n",
       " (82, 110),\n",
       " (83, 107),\n",
       " (84, 105),\n",
       " (85, 74),\n",
       " (86, 104),\n",
       " (87, 41),\n",
       " (88, 70),\n",
       " (89, 90),\n",
       " (90, 30),\n",
       " (91, 58),\n",
       " (92, 51),\n",
       " (93, 33),\n",
       " (94, 56),\n",
       " (95, 18),\n",
       " (96, 53),\n",
       " (97, 11),\n",
       " (98, 15),\n",
       " (99, 37),\n",
       " (100, 8),\n",
       " (101, 42),\n",
       " (102, 1),\n",
       " (103, 6),\n",
       " (104, 1)]"
      ]
     },
     "execution_count": 57,
     "metadata": {},
     "output_type": "execute_result"
    }
   ],
   "source": [
    "sorted(Counter(unique_pitches).items(), key=lambda k: k[0])"
   ]
  },
  {
   "cell_type": "code",
   "execution_count": null,
   "metadata": {},
   "outputs": [],
   "source": []
  }
 ],
 "metadata": {
  "kernelspec": {
   "display_name": "lakhnes_model",
   "language": "python",
   "name": "lakhnes_model"
  },
  "language_info": {
   "codemirror_mode": {
    "name": "ipython",
    "version": 3
   },
   "file_extension": ".py",
   "mimetype": "text/x-python",
   "name": "python",
   "nbconvert_exporter": "python",
   "pygments_lexer": "ipython3",
   "version": "3.6.8"
  }
 },
 "nbformat": 4,
 "nbformat_minor": 2
}
