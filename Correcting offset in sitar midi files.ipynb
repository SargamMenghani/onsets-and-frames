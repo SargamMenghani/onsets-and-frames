{
 "cells": [
  {
   "cell_type": "code",
   "execution_count": 12,
   "metadata": {},
   "outputs": [],
   "source": [
    "import os\n",
    "import pretty_midi"
   ]
  },
  {
   "cell_type": "code",
   "execution_count": 13,
   "metadata": {},
   "outputs": [],
   "source": [
    "train_path = '/home/nisarg/inhouse_research/imusic/third_party_repos/repo_data/sitar_lmd_train_files/'\n",
    "test_path = '/home/nisarg/inhouse_research/imusic/third_party_repos/repo_data/sitar_lmd_test_files/'\n",
    "all_files_path = '/home/nisarg/inhouse_research/imusic/third_party_repos/repo_data/sitar_lmd_files/'"
   ]
  },
  {
   "cell_type": "code",
   "execution_count": 14,
   "metadata": {},
   "outputs": [],
   "source": [
    "train_files = os.listdir(train_path)\n",
    "test_files = os.listdir(test_path)\n",
    "all_files = os.listdir(all_files_path)"
   ]
  },
  {
   "cell_type": "code",
   "execution_count": 15,
   "metadata": {},
   "outputs": [],
   "source": [
    "train_files_midi = [f for f in train_files if f.endswith('mid')]\n",
    "test_files_midi = [f for f in test_files if f.endswith('mid')]\n",
    "all_files_midi = [f for f in all_files if f.endswith('mid')]"
   ]
  },
  {
   "cell_type": "code",
   "execution_count": 16,
   "metadata": {},
   "outputs": [],
   "source": [
    "def correct_midi_file(midi):\n",
    "    notes = midi.instruments[0].notes\n",
    "    note_start = notes[0].start\n",
    "    for note in notes:\n",
    "        note.start -= note_start\n",
    "        note.end -= note_start\n",
    "    midi.instruments[0].notes = notes\n",
    "    return midi"
   ]
  },
  {
   "cell_type": "code",
   "execution_count": 17,
   "metadata": {},
   "outputs": [],
   "source": [
    "for train_file in train_files_midi:\n",
    "    midi = pretty_midi.PrettyMIDI(os.path.join(train_path, train_file))\n",
    "    midi = correct_midi_file(midi)\n",
    "    midi.write(os.path.join(train_path, train_file))\n",
    "    \n",
    "for test_file in test_files_midi:\n",
    "    midi = pretty_midi.PrettyMIDI(os.path.join(test_path, test_file))\n",
    "    midi = correct_midi_file(midi)\n",
    "    midi.write(os.path.join(test_path, test_file))\n",
    "\n",
    "for all_file in all_files_midi:\n",
    "    midi = pretty_midi.PrettyMIDI(os.path.join(all_files_path, all_file))\n",
    "    midi = correct_midi_file(midi)\n",
    "    midi.write(os.path.join(all_files_path, all_file))"
   ]
  },
  {
   "cell_type": "code",
   "execution_count": null,
   "metadata": {},
   "outputs": [],
   "source": []
  }
 ],
 "metadata": {
  "kernelspec": {
   "display_name": "lakhnes_model",
   "language": "python",
   "name": "lakhnes_model"
  },
  "language_info": {
   "codemirror_mode": {
    "name": "ipython",
    "version": 3
   },
   "file_extension": ".py",
   "mimetype": "text/x-python",
   "name": "python",
   "nbconvert_exporter": "python",
   "pygments_lexer": "ipython3",
   "version": "3.6.8"
  }
 },
 "nbformat": 4,
 "nbformat_minor": 2
}
